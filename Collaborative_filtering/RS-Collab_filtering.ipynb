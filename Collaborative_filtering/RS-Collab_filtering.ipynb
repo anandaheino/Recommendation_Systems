{
 "cells": [
  {
   "cell_type": "markdown",
   "metadata": {},
   "source": [
    "# Recommender system\n",
    "## Collaborative filtering\n"
   ]
  },
  {
   "cell_type": "code",
   "execution_count": 1,
   "metadata": {},
   "outputs": [],
   "source": [
    "# importing the neessary libs\n",
    "import numpy as np\n",
    "import pandas as pd\n",
    "from scipy import sparse"
   ]
  },
  {
   "cell_type": "code",
   "execution_count": 2,
   "metadata": {},
   "outputs": [],
   "source": [
    "def open_create_list(path, sep, column):\n",
    "    \"\"\"Function that opens a file and extract a specific column from it creating a list.\"\"\"\n",
    "    var = open(path, 'r', encoding='iso-8859-1')  \n",
    "    new_list = []\n",
    "    for l in var:\n",
    "        l = l.split(sep)\n",
    "        new_list.append(l[column])\n",
    "    return new_list"
   ]
  },
  {
   "cell_type": "markdown",
   "metadata": {},
   "source": [
    "### Creating lists with the important columns from the files"
   ]
  },
  {
   "cell_type": "code",
   "execution_count": null,
   "metadata": {},
   "outputs": [],
   "source": [
    "# Columns from u.data: | user id | item id | rating | timestamp |\n",
    "userId_data = open_create_list('data/u.data', '\\t', 0)\n",
    "movieId_data = open_create_list('data/u.data', '\\t', 1)\n",
    "rating_data = open_create_list('data/u.data', '\\t', 2)\n",
    "\n",
    "array_data = np.array([userId_data, movieId_data, rating_data])"
   ]
  }
 ],
 "metadata": {
  "kernelspec": {
   "display_name": "Python 3",
   "language": "python",
   "name": "python3"
  },
  "language_info": {
   "codemirror_mode": {
    "name": "ipython",
    "version": 3
   },
   "file_extension": ".py",
   "mimetype": "text/x-python",
   "name": "python",
   "nbconvert_exporter": "python",
   "pygments_lexer": "ipython3",
   "version": "3.9.6"
  }
 },
 "nbformat": 4,
 "nbformat_minor": 4
}
