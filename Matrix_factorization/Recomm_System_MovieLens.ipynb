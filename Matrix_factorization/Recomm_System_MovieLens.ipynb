{
 "cells": [
  {
   "cell_type": "markdown",
   "id": "2ee26df0-ea82-4315-9ade-1d3a0926229d",
   "metadata": {},
   "source": [
    "# Recommendation System\n",
    "\n",
    "## Team\n",
    "- [Ananda Heino](https://www.linkedin.com/in/ananda-heino-coelho-72154454/)\n",
    "- [Silvana Santos](https://www.linkedin.com/in/silvana-santos-1a1546209/)\n",
    "\n",
    "## Dataset\n",
    "- [MovieLens](https://files.grouplens.org/datasets/movielens/)\n",
    "\n",
    "## Brief descriptions of the data:\n",
    "\n",
    "- ml-data.tar.gz   \n",
    "    - Compressed tar file.  \n",
    "    - To rebuild the u data files do this:\n",
    "        - gunzip ml-data.tar.gz\n",
    "        - tar xvf ml-data.tar\n",
    "        - mku.sh\n",
    "\n",
    "- u.data  \n",
    "    - The full u data set, 100000 ratings by 943 users on 1682 items.\n",
    "    - Each user has rated at least 20 movies. \n",
    "    - Users and items are numbered consecutively from 1.  \n",
    "    - The data is randomly ordered. \n",
    "    - This is a tab separated list of \n",
    "        -  user id | item id | rating | timestamp. \n",
    "        - The time stamps are unix seconds since 1/1/1970 UTC   \n",
    "\n",
    "- u.info\n",
    "    - The number of users, items, and ratings in the u data set.\n",
    "\n",
    "- u.item    \n",
    "    - Information about the items (movies); \n",
    "    - this is a tab separated list of\n",
    "         - movie id | movie title | release date | video release date |\n",
    "         - IMDb URL | unknown | Action | Adventure | Animation |\n",
    "         - Children's | Comedy | Crime | Documentary | Drama | Fantasy |\n",
    "         - Film-Noir | Horror | Musical | Mystery | Romance | Sci-Fi |\n",
    "         - Thriller | War | Western |\n",
    "         \n",
    "         - The last 19 fields are the genres, a 1 indicates the movie is of that genre, a 0 indicates it is not; movies can be in several genres at once.\n",
    "         - The movie ids are the ones used in the u.data data set.\n",
    "\n",
    "- u.genre   \n",
    "    - A list of the genres.\n",
    "\n",
    "- u.user     \n",
    "    - Demographic information about the users;\n",
    "    - this is a tab separated list of \n",
    "        - user id | age | gender | occupation | zip code\n",
    "     - The user ids are the ones used in the u.data data set.\n",
    "\n",
    "- u.occupation \n",
    "    - A list of the occupations."
   ]
  },
  {
   "cell_type": "code",
   "execution_count": 2,
   "id": "f94f2cce-2dff-410c-9724-54fd5ca43aaf",
   "metadata": {
    "tags": []
   },
   "outputs": [
    {
     "name": "stdout",
     "output_type": "stream",
     "text": [
      "Collecting lightfm\n",
      "  Downloading lightfm-1.16.tar.gz (310 kB)\n",
      "\u001b[K     |████████████████████████████████| 310 kB 4.9 MB/s eta 0:00:01\n",
      "\u001b[?25hRequirement already satisfied: numpy in /home/anandaheino/miniconda3/envs/machine_learning/lib/python3.9/site-packages (from lightfm) (1.20.3)\n",
      "Requirement already satisfied: scipy>=0.17.0 in /home/anandaheino/miniconda3/envs/machine_learning/lib/python3.9/site-packages (from lightfm) (1.7.1)\n",
      "Requirement already satisfied: requests in /home/anandaheino/miniconda3/envs/machine_learning/lib/python3.9/site-packages (from lightfm) (2.25.1)\n",
      "Requirement already satisfied: scikit-learn in /home/anandaheino/miniconda3/envs/machine_learning/lib/python3.9/site-packages (from lightfm) (0.24.2)\n",
      "Requirement already satisfied: urllib3<1.27,>=1.21.1 in /home/anandaheino/miniconda3/envs/machine_learning/lib/python3.9/site-packages (from requests->lightfm) (1.26.6)\n",
      "Requirement already satisfied: chardet<5,>=3.0.2 in /home/anandaheino/miniconda3/envs/machine_learning/lib/python3.9/site-packages (from requests->lightfm) (4.0.0)\n",
      "Requirement already satisfied: certifi>=2017.4.17 in /home/anandaheino/miniconda3/envs/machine_learning/lib/python3.9/site-packages (from requests->lightfm) (2021.5.30)\n",
      "Requirement already satisfied: idna<3,>=2.5 in /home/anandaheino/miniconda3/envs/machine_learning/lib/python3.9/site-packages (from requests->lightfm) (2.10)\n",
      "Requirement already satisfied: threadpoolctl>=2.0.0 in /home/anandaheino/miniconda3/envs/machine_learning/lib/python3.9/site-packages (from scikit-learn->lightfm) (2.2.0)\n",
      "Requirement already satisfied: joblib>=0.11 in /home/anandaheino/miniconda3/envs/machine_learning/lib/python3.9/site-packages (from scikit-learn->lightfm) (1.0.1)\n",
      "Building wheels for collected packages: lightfm\n",
      "  Building wheel for lightfm (setup.py) ... \u001b[?25ldone\n",
      "\u001b[?25h  Created wheel for lightfm: filename=lightfm-1.16-cp39-cp39-linux_x86_64.whl size=473702 sha256=a098661db40880b7d043d63f9ff644350346a76237f109505a777c576fce8685\n",
      "  Stored in directory: /home/anandaheino/.cache/pip/wheels/d7/75/52/e42e5f9cd86d4902a352aff4dadde75ec041af713ffcf3ed05\n",
      "Successfully built lightfm\n",
      "Installing collected packages: lightfm\n",
      "Successfully installed lightfm-1.16\n",
      "\u001b[31mERROR: Could not find a version that satisfies the requirement pickle (from versions: none)\u001b[0m\n",
      "\u001b[31mERROR: No matching distribution found for pickle\u001b[0m\n",
      "Requirement already satisfied: statsmodels in /home/anandaheino/miniconda3/envs/machine_learning/lib/python3.9/site-packages (0.12.2)\n",
      "Requirement already satisfied: patsy>=0.5 in /home/anandaheino/miniconda3/envs/machine_learning/lib/python3.9/site-packages (from statsmodels) (0.5.1)\n",
      "Requirement already satisfied: pandas>=0.21 in /home/anandaheino/miniconda3/envs/machine_learning/lib/python3.9/site-packages (from statsmodels) (1.3.1)\n",
      "Requirement already satisfied: scipy>=1.1 in /home/anandaheino/miniconda3/envs/machine_learning/lib/python3.9/site-packages (from statsmodels) (1.7.1)\n",
      "Requirement already satisfied: numpy>=1.15 in /home/anandaheino/miniconda3/envs/machine_learning/lib/python3.9/site-packages (from statsmodels) (1.20.3)\n",
      "Requirement already satisfied: python-dateutil>=2.7.3 in /home/anandaheino/miniconda3/envs/machine_learning/lib/python3.9/site-packages (from pandas>=0.21->statsmodels) (2.8.2)\n",
      "Requirement already satisfied: pytz>=2017.3 in /home/anandaheino/miniconda3/envs/machine_learning/lib/python3.9/site-packages (from pandas>=0.21->statsmodels) (2021.1)\n",
      "Requirement already satisfied: six in /home/anandaheino/miniconda3/envs/machine_learning/lib/python3.9/site-packages (from patsy>=0.5->statsmodels) (1.16.0)\n"
     ]
    }
   ],
   "source": [
    "!pip install lightfm\n",
    "!pip install pickle\n",
    "!pip install statsmodels"
   ]
  },
  {
   "cell_type": "code",
   "execution_count": 4,
   "id": "1c7552e4-6c75-4bd5-a456-1992cd04c703",
   "metadata": {},
   "outputs": [],
   "source": [
    "import pickle\n",
    "import pandas as pd\n",
    "from lightfm.data import Dataset\n",
    "from lightfm import LightFM\n",
    "import numpy as np\n",
    "import re\n",
    "import time\n",
    "import datetime\n",
    "from statsmodels.tsa.seasonal import seasonal_decompose\n",
    "from statsmodels.tsa.stattools import adfuller, kpss\n",
    "from dateutil.parser import parse"
   ]
  },
  {
   "cell_type": "code",
   "execution_count": null,
   "id": "aa274576-b018-4986-adc2-b680dc1318c3",
   "metadata": {},
   "outputs": [],
   "source": []
  }
 ],
 "metadata": {
  "kernelspec": {
   "display_name": "Python 3 (ipykernel)",
   "language": "python",
   "name": "python3"
  },
  "language_info": {
   "codemirror_mode": {
    "name": "ipython",
    "version": 3
   },
   "file_extension": ".py",
   "mimetype": "text/x-python",
   "name": "python",
   "nbconvert_exporter": "python",
   "pygments_lexer": "ipython3",
   "version": "3.9.6"
  }
 },
 "nbformat": 4,
 "nbformat_minor": 5
}
